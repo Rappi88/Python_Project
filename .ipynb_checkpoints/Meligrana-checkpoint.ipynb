{
 "cells": [
  {
   "cell_type": "code",
   "execution_count": 2,
   "id": "722fe9f7-9b2a-48fb-81da-3dda46cc9962",
   "metadata": {},
   "outputs": [],
   "source": [
    "import pandas as pd\n",
    "import numpy as np\n",
    "from babel.numbers import format_currency, format_decimal"
   ]
  },
  {
   "cell_type": "code",
   "execution_count": 3,
   "id": "97dbf131-88ff-438c-8b6d-aa32a1c12c18",
   "metadata": {},
   "outputs": [],
   "source": [
    "pd.set_option('display.max_columns', None)\n",
    "pd.set_option('display.float_format', lambda x: \"%.2f\".format(x) % x)"
   ]
  },
  {
   "cell_type": "code",
   "execution_count": 4,
   "id": "5bf93e90-751d-417b-bdce-dd8032f29c60",
   "metadata": {},
   "outputs": [],
   "source": [
    "columns = ['KAM', 'PERIMTRO NEW', 'CLIENTE', 'INDUSTRY', 'PA/PARTECIPATE PA', 'Codice Cliente', 'KAM.1', 'GRUPPO COMMERCIALE', 'Id_Soggetto', 'VERTICALE', 'Gennaio 2021', 'Febbraio 2021', 'Marzo 2021', 'Aprile 2021', 'Maggio 2021', 'Giugno 2021', 'Luglio 2021',' Agosto 2021','Settembre 2021','Ottobre 2021','Novembre 2021','Dicembre 2021','TOTALE 2021', 'CAN Gen 2022', 'CAN Feb 2022', 'CAN Mar 2022', 'CAN Apr 2022', 'CAN Mag 2022', 'CAN Giu 2022', 'CAN Lug 2022', 'CAN Ago 2022', 'CAN Set 2022', 'CAN Ott 2022', 'CAN Nov 2022', 'CAN Dic 2022', 'TOTALE CANONI', 'NU Gen 2022', 'NU Feb 2022', 'NU Mar 2022', 'NU Apr 2022', 'NU Mag 2022', 'NU Giu 2022', 'NU Lug 2022', 'NU Ago 2022', 'NU Set 2022', 'NU Ott 2022', 'NU Nov 2022', 'NU Dic 2022', 'TOTALE NU', 'PIPE Gen 2022', 'PIPE Feb 2022', 'PIPE Mar 2022', 'PIPE Apr 2022', 'PIPE Mag 2022', 'PIPE Giu 2022', 'PIPE Lug 2022', 'PIPE Ago 2022', 'PIPE Set 2022', 'PIPE Ott 2022', 'PIPE Nov 2022', 'PIPE Dic 2022', 'TOTALE PIPE', 'TOT Gen 2022', 'TOT Feb 2022', 'TOT Mar 2022', 'TOT Apr 2022', 'TOT Mag 2022', 'TOT Giu 2022', 'TOT Lug 2022', 'TOT Ago 2022', 'TOT Set 2022', 'TOT Ott 2022', 'TOT Nov 2022', 'TOT Dic 2022', 'TOTALE 2022', 'DELTA Gen 2022', 'DELTA Feb 2022', 'DELTA Mar 2022', 'DELTA Apr 2022', 'DELTA Mag 2022', 'DELTA Giu 2022', 'DELTA Lug 2022', 'DELTA Ago 2022', 'DELTA Set 2022', 'DELTA Ott 2022', 'DELTA Nov 2022', 'DELTA Dic 2022', 'TOTALE DELTA', 'UP Gen 2022', 'UP Feb 2022', 'UP Mar 2022', 'UP Apr 2022', 'UP Mag 2022', 'UP Giu 2022', 'UP Lug 2022', 'UP Ago 2022', 'UP Set 2022', 'UP Ott 2022', 'UP Nov 2022', 'UP Dic 2022', 'TOTALE UPSIDE', 'FOR Gen 2022', 'FOR Feb 2022', 'FOR Mar 2022', 'FOR Apr 2022', 'FOR Mag 2022', 'FOR Giu 2022', 'FOR Lug 2022', 'FOR Ago 2022', 'FOR Set 2022', 'FOR Ott 2022', 'FOR Nov 2022', 'FOR Dic 2022', 'TOTALE FORZATURE', 'GRAN TOT - Gen 2022', 'GRAN TOT - Feb 2022', 'GRAN TOT - Mar 2022', 'GRAN TOT - Apr 2022', 'GRAN TOT - Mag 2022', 'GRAN TOT - Giu 2022', 'GRAN TOT - Lug 2022', 'GRAN TOT - Ago 2022', 'GRAN TOT - Set 2022', 'GRAN TOT - Ott 2022', 'GRAN TOT - Nov 2022', 'GRAN TOT - Dic 2022', 'GRAN TOT 2022', 'Check 0', 'DELTA Q1', 'CAN Q1', 'NU Q1', 'PIPE Q1', 'TOTALE Q1', 'FOR Q1', 'GRAN TOTAL Q1', 'UPSIDE Q1', 'DELTA Q2', 'CAN Q2', 'NU Q2', 'PIPE Q2', 'TOTALE Q2', 'FOR Q2', 'GRAN TOTAL Q2', 'UPSIDE Q2', 'DELTA Q3', 'CAN Q3', 'NU Q3', 'PIPE Q3', 'TOTALE Q3', 'FOR Q3', 'GRAN TOTAL Q3', 'UPSIDE Q3', 'DELTA Q4', 'CAN Q4', 'NU Q4', 'PIPE Q4', 'TOTALE Q4', 'FOR Q4', 'GRAN TOTAL Q4', 'UPSIDE Q4', 'DELTA H1', 'CAN H1', 'NU H1', 'PIPE H1', 'TOTALE H1', 'FOR H1', 'GRAN TOTAL H1', 'UPSIDE H1', 'DELTA Q3 - YTD', 'CAN Q3 - YTD', 'NU Q3 - YTD', 'PIPE Q3 - YTD', 'TOTALE Q3 - YTD', 'FOR Q3 - YTD', 'GRAN TOTAL Q3 - YTD', 'UPSIDE Q3 - YTD', 'DELTA 2022', 'CAN 2022', 'NU 2022', 'PIPE 2022', 'TOTALE 2022.1', 'FOR 2022', 'GRAN TOTAL 2022', 'UPSIDE 2022', 'GRAN DELTA ', 'Ceck 1', 'Ceck 2']"
   ]
  },
  {
   "cell_type": "code",
   "execution_count": 5,
   "id": "cb5874bc-0119-493f-ac1c-14d0a0a538e3",
   "metadata": {},
   "outputs": [
    {
     "ename": "FileNotFoundError",
     "evalue": "[Errno 2] No such file or directory: 'prova.xlsx'",
     "output_type": "error",
     "traceback": [
      "\u001b[1;31m---------------------------------------------------------------------------\u001b[0m",
      "\u001b[1;31mFileNotFoundError\u001b[0m                         Traceback (most recent call last)",
      "Input \u001b[1;32mIn [5]\u001b[0m, in \u001b[0;36m<cell line: 1>\u001b[1;34m()\u001b[0m\n\u001b[1;32m----> 1\u001b[0m df \u001b[38;5;241m=\u001b[39m \u001b[43mpd\u001b[49m\u001b[38;5;241;43m.\u001b[39;49m\u001b[43mread_excel\u001b[49m\u001b[43m(\u001b[49m\u001b[38;5;124;43m'\u001b[39;49m\u001b[38;5;124;43mprova.xlsx\u001b[39;49m\u001b[38;5;124;43m'\u001b[39;49m\u001b[43m,\u001b[49m\u001b[43m \u001b[49m\u001b[43mnames\u001b[49m\u001b[38;5;241;43m=\u001b[39;49m\u001b[43mcolumns\u001b[49m\u001b[43m,\u001b[49m\u001b[43m \u001b[49m\u001b[43mdtype\u001b[49m\u001b[38;5;241;43m=\u001b[39;49m\u001b[43m{\u001b[49m\u001b[38;5;124;43m'\u001b[39;49m\u001b[38;5;124;43mId_Soggetto\u001b[39;49m\u001b[38;5;124;43m'\u001b[39;49m\u001b[43m:\u001b[49m\u001b[38;5;124;43m'\u001b[39;49m\u001b[38;5;124;43mstr\u001b[39;49m\u001b[38;5;124;43m'\u001b[39;49m\u001b[43m}\u001b[49m\u001b[43m)\u001b[49m\n",
      "File \u001b[1;32m~\\Anaconda3\\lib\\site-packages\\pandas\\util\\_decorators.py:311\u001b[0m, in \u001b[0;36mdeprecate_nonkeyword_arguments.<locals>.decorate.<locals>.wrapper\u001b[1;34m(*args, **kwargs)\u001b[0m\n\u001b[0;32m    305\u001b[0m \u001b[38;5;28;01mif\u001b[39;00m \u001b[38;5;28mlen\u001b[39m(args) \u001b[38;5;241m>\u001b[39m num_allow_args:\n\u001b[0;32m    306\u001b[0m     warnings\u001b[38;5;241m.\u001b[39mwarn(\n\u001b[0;32m    307\u001b[0m         msg\u001b[38;5;241m.\u001b[39mformat(arguments\u001b[38;5;241m=\u001b[39marguments),\n\u001b[0;32m    308\u001b[0m         \u001b[38;5;167;01mFutureWarning\u001b[39;00m,\n\u001b[0;32m    309\u001b[0m         stacklevel\u001b[38;5;241m=\u001b[39mstacklevel,\n\u001b[0;32m    310\u001b[0m     )\n\u001b[1;32m--> 311\u001b[0m \u001b[38;5;28;01mreturn\u001b[39;00m func(\u001b[38;5;241m*\u001b[39margs, \u001b[38;5;241m*\u001b[39m\u001b[38;5;241m*\u001b[39mkwargs)\n",
      "File \u001b[1;32m~\\Anaconda3\\lib\\site-packages\\pandas\\io\\excel\\_base.py:457\u001b[0m, in \u001b[0;36mread_excel\u001b[1;34m(io, sheet_name, header, names, index_col, usecols, squeeze, dtype, engine, converters, true_values, false_values, skiprows, nrows, na_values, keep_default_na, na_filter, verbose, parse_dates, date_parser, thousands, decimal, comment, skipfooter, convert_float, mangle_dupe_cols, storage_options)\u001b[0m\n\u001b[0;32m    455\u001b[0m \u001b[38;5;28;01mif\u001b[39;00m \u001b[38;5;129;01mnot\u001b[39;00m \u001b[38;5;28misinstance\u001b[39m(io, ExcelFile):\n\u001b[0;32m    456\u001b[0m     should_close \u001b[38;5;241m=\u001b[39m \u001b[38;5;28;01mTrue\u001b[39;00m\n\u001b[1;32m--> 457\u001b[0m     io \u001b[38;5;241m=\u001b[39m \u001b[43mExcelFile\u001b[49m\u001b[43m(\u001b[49m\u001b[43mio\u001b[49m\u001b[43m,\u001b[49m\u001b[43m \u001b[49m\u001b[43mstorage_options\u001b[49m\u001b[38;5;241;43m=\u001b[39;49m\u001b[43mstorage_options\u001b[49m\u001b[43m,\u001b[49m\u001b[43m \u001b[49m\u001b[43mengine\u001b[49m\u001b[38;5;241;43m=\u001b[39;49m\u001b[43mengine\u001b[49m\u001b[43m)\u001b[49m\n\u001b[0;32m    458\u001b[0m \u001b[38;5;28;01melif\u001b[39;00m engine \u001b[38;5;129;01mand\u001b[39;00m engine \u001b[38;5;241m!=\u001b[39m io\u001b[38;5;241m.\u001b[39mengine:\n\u001b[0;32m    459\u001b[0m     \u001b[38;5;28;01mraise\u001b[39;00m \u001b[38;5;167;01mValueError\u001b[39;00m(\n\u001b[0;32m    460\u001b[0m         \u001b[38;5;124m\"\u001b[39m\u001b[38;5;124mEngine should not be specified when passing \u001b[39m\u001b[38;5;124m\"\u001b[39m\n\u001b[0;32m    461\u001b[0m         \u001b[38;5;124m\"\u001b[39m\u001b[38;5;124man ExcelFile - ExcelFile already has the engine set\u001b[39m\u001b[38;5;124m\"\u001b[39m\n\u001b[0;32m    462\u001b[0m     )\n",
      "File \u001b[1;32m~\\Anaconda3\\lib\\site-packages\\pandas\\io\\excel\\_base.py:1376\u001b[0m, in \u001b[0;36mExcelFile.__init__\u001b[1;34m(self, path_or_buffer, engine, storage_options)\u001b[0m\n\u001b[0;32m   1374\u001b[0m     ext \u001b[38;5;241m=\u001b[39m \u001b[38;5;124m\"\u001b[39m\u001b[38;5;124mxls\u001b[39m\u001b[38;5;124m\"\u001b[39m\n\u001b[0;32m   1375\u001b[0m \u001b[38;5;28;01melse\u001b[39;00m:\n\u001b[1;32m-> 1376\u001b[0m     ext \u001b[38;5;241m=\u001b[39m \u001b[43minspect_excel_format\u001b[49m\u001b[43m(\u001b[49m\n\u001b[0;32m   1377\u001b[0m \u001b[43m        \u001b[49m\u001b[43mcontent_or_path\u001b[49m\u001b[38;5;241;43m=\u001b[39;49m\u001b[43mpath_or_buffer\u001b[49m\u001b[43m,\u001b[49m\u001b[43m \u001b[49m\u001b[43mstorage_options\u001b[49m\u001b[38;5;241;43m=\u001b[39;49m\u001b[43mstorage_options\u001b[49m\n\u001b[0;32m   1378\u001b[0m \u001b[43m    \u001b[49m\u001b[43m)\u001b[49m\n\u001b[0;32m   1379\u001b[0m     \u001b[38;5;28;01mif\u001b[39;00m ext \u001b[38;5;129;01mis\u001b[39;00m \u001b[38;5;28;01mNone\u001b[39;00m:\n\u001b[0;32m   1380\u001b[0m         \u001b[38;5;28;01mraise\u001b[39;00m \u001b[38;5;167;01mValueError\u001b[39;00m(\n\u001b[0;32m   1381\u001b[0m             \u001b[38;5;124m\"\u001b[39m\u001b[38;5;124mExcel file format cannot be determined, you must specify \u001b[39m\u001b[38;5;124m\"\u001b[39m\n\u001b[0;32m   1382\u001b[0m             \u001b[38;5;124m\"\u001b[39m\u001b[38;5;124man engine manually.\u001b[39m\u001b[38;5;124m\"\u001b[39m\n\u001b[0;32m   1383\u001b[0m         )\n",
      "File \u001b[1;32m~\\Anaconda3\\lib\\site-packages\\pandas\\io\\excel\\_base.py:1250\u001b[0m, in \u001b[0;36minspect_excel_format\u001b[1;34m(content_or_path, storage_options)\u001b[0m\n\u001b[0;32m   1247\u001b[0m \u001b[38;5;28;01mif\u001b[39;00m \u001b[38;5;28misinstance\u001b[39m(content_or_path, \u001b[38;5;28mbytes\u001b[39m):\n\u001b[0;32m   1248\u001b[0m     content_or_path \u001b[38;5;241m=\u001b[39m BytesIO(content_or_path)\n\u001b[1;32m-> 1250\u001b[0m \u001b[38;5;28;01mwith\u001b[39;00m \u001b[43mget_handle\u001b[49m\u001b[43m(\u001b[49m\n\u001b[0;32m   1251\u001b[0m \u001b[43m    \u001b[49m\u001b[43mcontent_or_path\u001b[49m\u001b[43m,\u001b[49m\u001b[43m \u001b[49m\u001b[38;5;124;43m\"\u001b[39;49m\u001b[38;5;124;43mrb\u001b[39;49m\u001b[38;5;124;43m\"\u001b[39;49m\u001b[43m,\u001b[49m\u001b[43m \u001b[49m\u001b[43mstorage_options\u001b[49m\u001b[38;5;241;43m=\u001b[39;49m\u001b[43mstorage_options\u001b[49m\u001b[43m,\u001b[49m\u001b[43m \u001b[49m\u001b[43mis_text\u001b[49m\u001b[38;5;241;43m=\u001b[39;49m\u001b[38;5;28;43;01mFalse\u001b[39;49;00m\n\u001b[0;32m   1252\u001b[0m \u001b[43m\u001b[49m\u001b[43m)\u001b[49m \u001b[38;5;28;01mas\u001b[39;00m handle:\n\u001b[0;32m   1253\u001b[0m     stream \u001b[38;5;241m=\u001b[39m handle\u001b[38;5;241m.\u001b[39mhandle\n\u001b[0;32m   1254\u001b[0m     stream\u001b[38;5;241m.\u001b[39mseek(\u001b[38;5;241m0\u001b[39m)\n",
      "File \u001b[1;32m~\\Anaconda3\\lib\\site-packages\\pandas\\io\\common.py:798\u001b[0m, in \u001b[0;36mget_handle\u001b[1;34m(path_or_buf, mode, encoding, compression, memory_map, is_text, errors, storage_options)\u001b[0m\n\u001b[0;32m    789\u001b[0m         handle \u001b[38;5;241m=\u001b[39m \u001b[38;5;28mopen\u001b[39m(\n\u001b[0;32m    790\u001b[0m             handle,\n\u001b[0;32m    791\u001b[0m             ioargs\u001b[38;5;241m.\u001b[39mmode,\n\u001b[1;32m   (...)\u001b[0m\n\u001b[0;32m    794\u001b[0m             newline\u001b[38;5;241m=\u001b[39m\u001b[38;5;124m\"\u001b[39m\u001b[38;5;124m\"\u001b[39m,\n\u001b[0;32m    795\u001b[0m         )\n\u001b[0;32m    796\u001b[0m     \u001b[38;5;28;01melse\u001b[39;00m:\n\u001b[0;32m    797\u001b[0m         \u001b[38;5;66;03m# Binary mode\u001b[39;00m\n\u001b[1;32m--> 798\u001b[0m         handle \u001b[38;5;241m=\u001b[39m \u001b[38;5;28;43mopen\u001b[39;49m\u001b[43m(\u001b[49m\u001b[43mhandle\u001b[49m\u001b[43m,\u001b[49m\u001b[43m \u001b[49m\u001b[43mioargs\u001b[49m\u001b[38;5;241;43m.\u001b[39;49m\u001b[43mmode\u001b[49m\u001b[43m)\u001b[49m\n\u001b[0;32m    799\u001b[0m     handles\u001b[38;5;241m.\u001b[39mappend(handle)\n\u001b[0;32m    801\u001b[0m \u001b[38;5;66;03m# Convert BytesIO or file objects passed with an encoding\u001b[39;00m\n",
      "\u001b[1;31mFileNotFoundError\u001b[0m: [Errno 2] No such file or directory: 'prova.xlsx'"
     ]
    }
   ],
   "source": [
    "df = pd.read_excel('prova.xlsx', names=columns, dtype={'Id_Soggetto':'str'})"
   ]
  },
  {
   "cell_type": "code",
   "execution_count": null,
   "id": "e4db2c75-98f2-4c33-9a63-91927345764d",
   "metadata": {},
   "outputs": [],
   "source": [
    "df.head(4)"
   ]
  },
  {
   "cell_type": "code",
   "execution_count": null,
   "id": "53778a38-c9b5-40ca-8a29-d1205f22e1c3",
   "metadata": {},
   "outputs": [],
   "source": [
    "pd_pvt=pd.pivot_table(df, values=['Gennaio 2021', 'CAN Gen 2022', 'NU Gen 2022', 'PIPE Gen 2022', 'TOT Gen 2022', 'DELTA Gen 2022', 'FOR Gen 2022', 'UP Gen 2022'], index='VERTICALE', aggfunc='sum', margins=True, fill_value=0).query('VERTICALE !=\"DIREZIONE TOP CLIENTS\"')"
   ]
  },
  {
   "cell_type": "code",
   "execution_count": null,
   "id": "303456c6-1283-4586-8da5-6fbb417e6e37",
   "metadata": {},
   "outputs": [],
   "source": [
    "for j in list(pd_pvt.columns):\n",
    "    for i in range (0,len(pd_pvt.index)):\n",
    "        pd_pvt[j][pd_pvt.index[i]] = format_currency(pd_pvt[j][pd_pvt.index[i]],currency=\"EUR\", locale=\"it_IT\")  "
   ]
  },
  {
   "cell_type": "code",
   "execution_count": null,
   "id": "fc9f04fb-ad95-4829-b101-8dbe7ce3c808",
   "metadata": {},
   "outputs": [],
   "source": [
    "pd_pvt_c"
   ]
  },
  {
   "cell_type": "code",
   "execution_count": null,
   "id": "429d16a3-1c5b-4c8d-8d54-97bdfa48d6e9",
   "metadata": {},
   "outputs": [],
   "source": []
  },
  {
   "cell_type": "code",
   "execution_count": null,
   "id": "f97a451c-0df4-440f-abab-c1e3ab95f57f",
   "metadata": {},
   "outputs": [],
   "source": []
  },
  {
   "cell_type": "code",
   "execution_count": null,
   "id": "63917b62-aaa7-44f2-8d5b-2fab25bbf826",
   "metadata": {},
   "outputs": [],
   "source": []
  },
  {
   "cell_type": "code",
   "execution_count": null,
   "id": "73887e66-00e9-4832-9fe5-076356ab81e2",
   "metadata": {},
   "outputs": [],
   "source": [
    "from babel.numbers import format_currency\n",
    "df_cu = pd.DataFrame(\n",
    "        {'A':['A','B','C','D'],\n",
    "         'C':[12355.00,12555.67,640.00,7000]\n",
    "        })"
   ]
  },
  {
   "cell_type": "code",
   "execution_count": null,
   "id": "dd6d01a1-88a0-4536-80f2-9de7831f3a7a",
   "metadata": {},
   "outputs": [],
   "source": [
    "df_cu.dtypes"
   ]
  },
  {
   "cell_type": "code",
   "execution_count": null,
   "id": "3da79ca1-49af-44e5-902d-9140341b3cee",
   "metadata": {},
   "outputs": [],
   "source": [
    "df_cu[\"C\"] = df_cu[\"C\"].apply(lambda x: format_currency(x, currency=\"EUR\", locale=\"it_IT\"))"
   ]
  },
  {
   "cell_type": "code",
   "execution_count": null,
   "id": "363460ac-3f1a-483f-956e-5da94faae854",
   "metadata": {},
   "outputs": [],
   "source": [
    "df_cu.dtypes"
   ]
  },
  {
   "cell_type": "code",
   "execution_count": null,
   "id": "18a87f9f-46c3-4147-8a09-8960bf7bee44",
   "metadata": {},
   "outputs": [],
   "source": [
    "df_cu"
   ]
  },
  {
   "cell_type": "code",
   "execution_count": null,
   "id": "d50c0500-07ac-4122-a777-835673e5548f",
   "metadata": {},
   "outputs": [],
   "source": [
    "df_cu['C'].sum()"
   ]
  },
  {
   "cell_type": "code",
   "execution_count": null,
   "id": "14e860be-7dee-41f0-a1ed-e7dc69d884be",
   "metadata": {},
   "outputs": [],
   "source": [
    "apply(lambda x:format_decimal(12346.76, locale='it_IT'))"
   ]
  },
  {
   "cell_type": "code",
   "execution_count": null,
   "id": "f13070af-c3d7-469e-8727-e6ce6eed7090",
   "metadata": {},
   "outputs": [],
   "source": []
  },
  {
   "cell_type": "code",
   "execution_count": null,
   "id": "777d08e9-938b-4a72-b418-53381aa0a833",
   "metadata": {},
   "outputs": [],
   "source": []
  }
 ],
 "metadata": {
  "kernelspec": {
   "display_name": "Python 3 (ipykernel)",
   "language": "python",
   "name": "python3"
  },
  "language_info": {
   "codemirror_mode": {
    "name": "ipython",
    "version": 3
   },
   "file_extension": ".py",
   "mimetype": "text/x-python",
   "name": "python",
   "nbconvert_exporter": "python",
   "pygments_lexer": "ipython3",
   "version": "3.9.12"
  }
 },
 "nbformat": 4,
 "nbformat_minor": 5
}
